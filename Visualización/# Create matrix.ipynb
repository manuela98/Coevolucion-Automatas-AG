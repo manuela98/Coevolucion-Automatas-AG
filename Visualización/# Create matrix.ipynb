{
 "cells": [
  {
   "cell_type": "code",
   "execution_count": 20,
   "metadata": {},
   "outputs": [],
   "source": [
    "import numpy \n",
    "arr = numpy.random.binomial(2, 0.4,(10,10))\n",
    "\n"
   ]
  },
  {
   "cell_type": "code",
   "execution_count": 21,
   "metadata": {},
   "outputs": [
    {
     "data": {
      "text/plain": [
       "array([[0, 1, 0, 2, 0, 1, 1, 1, 0, 1],\n",
       "       [0, 0, 2, 2, 0, 2, 1, 0, 0, 1],\n",
       "       [0, 1, 0, 1, 1, 0, 1, 0, 0, 2],\n",
       "       [1, 0, 1, 1, 0, 2, 0, 0, 1, 1],\n",
       "       [2, 1, 2, 0, 1, 1, 0, 2, 2, 2],\n",
       "       [0, 0, 0, 1, 1, 0, 1, 1, 2, 0],\n",
       "       [1, 1, 1, 1, 1, 0, 1, 0, 2, 0],\n",
       "       [1, 0, 0, 1, 2, 1, 1, 1, 2, 1],\n",
       "       [1, 0, 1, 2, 1, 1, 0, 1, 2, 1],\n",
       "       [0, 1, 1, 1, 2, 0, 1, 1, 2, 2]])"
      ]
     },
     "execution_count": 21,
     "metadata": {},
     "output_type": "execute_result"
    }
   ],
   "source": [
    "arr"
   ]
  },
  {
   "cell_type": "code",
   "execution_count": 22,
   "metadata": {},
   "outputs": [],
   "source": [
    "numpy.savetxt('test1.txt', arr, fmt='%d')"
   ]
  },
  {
   "cell_type": "code",
   "execution_count": 11,
   "metadata": {},
   "outputs": [
    {
     "name": "stdout",
     "output_type": "stream",
     "text": [
      "[6 7 4 4 4 4 3 5 8 7]\n"
     ]
    }
   ],
   "source": [
    " from numpy import random\n",
    "\n",
    "x = random.binomial(n=10, p=0.5, size=10)\n",
    "\n",
    "print(x) "
   ]
  },
  {
   "cell_type": "code",
   "execution_count": null,
   "metadata": {},
   "outputs": [],
   "source": []
  }
 ],
 "metadata": {
  "kernelspec": {
   "display_name": "Python 3",
   "language": "python",
   "name": "python3"
  },
  "language_info": {
   "codemirror_mode": {
    "name": "ipython",
    "version": 3
   },
   "file_extension": ".py",
   "mimetype": "text/x-python",
   "name": "python",
   "nbconvert_exporter": "python",
   "pygments_lexer": "ipython3",
   "version": "3.7.4"
  }
 },
 "nbformat": 4,
 "nbformat_minor": 2
}
