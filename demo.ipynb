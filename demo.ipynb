{
 "cells": [
  {
   "cell_type": "code",
   "execution_count": 2,
   "metadata": {},
   "outputs": [],
   "source": [
    "%matplotlib inline\n",
    "import matplotlib.pyplot as plt\n",
    "import numpy as np\n",
    "import yaml\n",
    "from tqdm import *\n",
    "\n",
    "from components import Robot, robot_from_dna, Coevolution"
   ]
  },
  {
   "cell_type": "markdown",
   "metadata": {},
   "source": [
    "# Import Settings"
   ]
  },
  {
   "cell_type": "code",
   "execution_count": 3,
   "metadata": {},
   "outputs": [
    {
     "name": "stdout",
     "output_type": "stream",
     "text": [
      "200 100 400 100 200\n"
     ]
    }
   ],
   "source": [
    "with open(\"config.yaml\", \"r\") as yamlfile:\n",
    "    config = yaml.safe_load(yamlfile)\n",
    "\n",
    "pop_size = config['pop_size'] # number of robots per generation\n",
    "num_breeders = config['num_breeders'] # number of robots who can mate in each generation\n",
    "num_gen = config['num_generations'] # total number of generations\n",
    "iter_per_sim = config['iterations_per_simulation'] # number of rubbish-collection simulations per robot\n",
    "moves_per_iter = config['moves_per_iteration'] # number of moves robot can make per simulation\n",
    "print(pop_size,num_breeders,num_gen,iter_per_sim,moves_per_iter)"
   ]
  },
  {
   "cell_type": "code",
   "execution_count": 4,
   "metadata": {},
   "outputs": [
    {
     "name": "stdout",
     "output_type": "stream",
     "text": [
      "982 327\n",
      "427 327\n",
      "427 327\n",
      "427 327\n",
      "427 327\n",
      "469 341\n",
      "469 665\n",
      "469 665\n",
      "469 665\n",
      "469 665\n",
      "597 361\n",
      "406 361\n",
      "346 361\n",
      "693 361\n",
      "342 361\n",
      "902 794\n",
      "902 410\n",
      "902 629\n",
      "902 629\n",
      "902 629\n",
      "341 441\n",
      "345 606\n",
      "341 423\n",
      "405 485\n",
      "405 423\n"
     ]
    }
   ],
   "source": [
    "robot_one = Robot()\n",
    "robot_two = Robot()\n",
    "\n",
    "coevolution = Coevolution(robot_one,robot_two)\n",
    "result = coevolution.simulate(5,5)"
   ]
  },
  {
   "cell_type": "markdown",
   "metadata": {},
   "source": [
    "# Run Co-evolution"
   ]
  },
  {
   "cell_type": "code",
   "execution_count": null,
   "metadata": {},
   "outputs": [
    {
     "name": "stderr",
     "output_type": "stream",
     "text": [
      " 22%|█████████████████▎                                                           | 90/400 [1:24:34<5:57:15, 69.15s/it]"
     ]
    }
   ],
   "source": [
    "# initial population\n",
    "pop_one = [Robot() for x in range(pop_size)]\n",
    "pop_two = [Robot() for x in range(pop_size)]\n",
    "results_one = []\n",
    "results_two = []\n",
    "\n",
    "# run evolution\n",
    "for i in tqdm(range(num_gen)):\n",
    "    scores_one = np.zeros(pop_size)\n",
    "    scores_two = np.zeros(pop_size)\n",
    "    # iterate through all robots\n",
    "    for idx in range(len(pop_one)):\n",
    "    # run rubbish collection simulation and calculate fitness\n",
    "        coevolution = Coevolution(pop_one[idx],pop_two[idx])\n",
    "        score_one,score_two = coevolution.simulate(iter_per_sim, moves_per_iter)\n",
    "        scores_one[idx] = score_one\n",
    "        scores_two[idx] = score_two\n",
    "\n",
    "    results_one.append([scores_one.mean(),scores_one.max()]) # save mean and max scores for each generation\n",
    "    results_two.append([scores_two.mean(),scores_two.max()]) # save mean and max scores for each generation\n",
    "\n",
    "    best_robot_one = pop_one[scores_one.argmax()] # save the best robot\n",
    "    best_robot_two = pop_two[scores_two.argmax()] # save the best robot\n",
    "\n",
    "    # limit robots who are able to mate to top num_breeders\n",
    "    inds_one = np.argpartition(scores_one, -num_breeders)[-num_breeders:] # get indices of top robots based on fitness\n",
    "    inds_two = np.argpartition(scores_two, -num_breeders)[-num_breeders:] # get indices of top robots based on fitness\n",
    "    subpop_one = []\n",
    "    subpop_two = []\n",
    "    for idx in inds_one:\n",
    "        subpop_one.append(pop_one[idx])\n",
    "        subpop_two.append(pop_two[idx])\n",
    "    scores_one = scores_one[inds_one]\n",
    "    scores_two = scores_two[inds_two]\n",
    "\n",
    "    # square and normalise fitness scores\n",
    "    norm_scores_one = (scores_one - scores_one.min()) ** 2\n",
    "    norm_scores_one = norm_scores_one / norm_scores_one.sum()\n",
    "\n",
    "    norm_scores_two = (scores_two - scores_two.min()) ** 2\n",
    "    norm_scores_two = norm_scores_two / norm_scores_two.sum()\n",
    "\n",
    "    # create next generation of robots\n",
    "    new_pop_one = []\n",
    "    new_pop_two = []\n",
    "    for child in range(pop_size):\n",
    "        p1, p2 = np.random.choice(subpop_one, p=norm_scores_one, size=2, replace=False)\n",
    "        p3, p4 = np.random.choice(subpop_two, p=norm_scores_two, size=2, replace=False)\n",
    "        new_pop_one.append(Robot(p1.dna, p2.dna))\n",
    "        new_pop_two.append(Robot(p3.dna, p4.dna))\n",
    "\n",
    "    pop_one = new_pop_one\n",
    "    pop_two = new_pop_two"
   ]
  },
  {
   "cell_type": "markdown",
   "metadata": {},
   "source": [
    "# Visualise Results"
   ]
  },
  {
   "cell_type": "code",
   "execution_count": 12,
   "metadata": {},
   "outputs": [
    {
     "name": "stdout",
     "output_type": "stream",
     "text": [
      "before\n",
      "start position: 4 4\n",
      "[['w' 'w' 'w' 'w' 'w' 'w' 'w' 'w' 'w' 'w' 'w' 'w']\n",
      " ['w' 'o' 'x' 'x' 'o' 'o' 'o' 'o' 'x' 'o' 'o' 'w']\n",
      " ['w' 'x' 'o' 'x' 'x' 'o' 'x' 'o' 'x' 'x' 'x' 'w']\n",
      " ['w' 'x' 'o' 'o' 'o' 'x' 'x' 'x' 'x' 'x' 'x' 'w']\n",
      " ['w' 'x' 'o' 'x' 'o' 'x' 'o' 'o' 'x' 'x' 'x' 'w']\n",
      " ['w' 'o' 'x' 'x' 'x' 'o' 'o' 'x' 'o' 'x' 'x' 'w']\n",
      " ['w' 'o' 'o' 'x' 'x' 'o' 'x' 'o' 'x' 'o' 'o' 'w']\n",
      " ['w' 'x' 'o' 'x' 'o' 'x' 'x' 'o' 'o' 'x' 'o' 'w']\n",
      " ['w' 'x' 'o' 'o' 'o' 'o' 'o' 'x' 'o' 'o' 'x' 'w']\n",
      " ['w' 'x' 'o' 'o' 'x' 'o' 'x' 'o' 'o' 'x' 'x' 'w']\n",
      " ['w' 'o' 'x' 'x' 'o' 'o' 'x' 'x' 'x' 'x' 'x' 'w']\n",
      " ['w' 'w' 'w' 'w' 'w' 'w' 'w' 'w' 'w' 'w' 'w' 'w']]\n",
      "after\n",
      "end position: 6 5\n",
      "[['w' 'w' 'w' 'w' 'w' 'w' 'w' 'w' 'w' 'w' 'w' 'w']\n",
      " ['w' 'o' 'o' 'o' 'o' 'o' 'o' 'o' 'x' 'o' 'o' 'w']\n",
      " ['w' 'o' 'o' 'o' 'o' 'o' 'o' 'o' 'o' 'o' 'o' 'w']\n",
      " ['w' 'o' 'o' 'o' 'o' 'o' 'o' 'o' 'o' 'o' 'o' 'w']\n",
      " ['w' 'o' 'o' 'o' 'o' 'o' 'o' 'o' 'x' 'o' 'o' 'w']\n",
      " ['w' 'o' 'o' 'o' 'o' 'o' 'o' 'o' 'o' 'o' 'o' 'w']\n",
      " ['w' 'o' 'o' 'o' 'o' 'o' 'o' 'o' 'o' 'o' 'o' 'w']\n",
      " ['w' 'o' 'o' 'o' 'o' 'o' 'o' 'o' 'o' 'o' 'o' 'w']\n",
      " ['w' 'o' 'o' 'o' 'o' 'o' 'o' 'o' 'o' 'o' 'o' 'w']\n",
      " ['w' 'o' 'o' 'o' 'o' 'o' 'o' 'o' 'o' 'o' 'o' 'w']\n",
      " ['w' 'o' 'o' 'o' 'o' 'o' 'o' 'o' 'o' 'o' 'o' 'w']\n",
      " ['w' 'w' 'w' 'w' 'w' 'w' 'w' 'w' 'w' 'w' 'w' 'w']]\n",
      "score: 510\n"
     ]
    },
    {
     "data": {
      "text/plain": [
       "510.0"
      ]
     },
     "execution_count": 12,
     "metadata": {},
     "output_type": "execute_result"
    }
   ],
   "source": [
    "# w, x, o = wall, rubbish, empty\n",
    "best_robot.simulate(1,200,debug=True)"
   ]
  },
  {
   "cell_type": "code",
   "execution_count": 5,
   "metadata": {},
   "outputs": [
    {
     "data": {
      "image/png": "[encoded data removed]",
      "text/plain": [
       "<matplotlib.figure.Figure at 0x108982f60>"
      ]
     },
     "metadata": {},
     "output_type": "display_data"
    }
   ],
   "source": [
    "res = np.array(results)\n",
    "plt.figure(figsize=(12,8))\n",
    "plt.title('Average and Best Scores through Time')\n",
    "plt.xlabel('Generation')\n",
    "plt.ylabel('Fitness Score')\n",
    "plt.plot(range(400), res[:,1])\n",
    "plt.plot(range(400), res[:,0])\n",
    "plt.show()"
   ]
  },
  {
   "cell_type": "markdown",
   "metadata": {},
   "source": [
    "# Compare with Benchmark\n",
    "I crafted the dna string below as a benchmark. The strategy is:\n",
    "* if rubbish is in square, pick it up\n",
    "* if rubbish is visible, move to that square\n",
    "* if next to a wall, move away from it\n",
    "* otherwise move in a random direction\n",
    "\n",
    "We can see that the robots that \"evolved\" using the genetic algorithm are superior to my benchmark strategy."
   ]
  },
  {
   "cell_type": "code",
   "execution_count": 6,
   "metadata": {},
   "outputs": [
    {
     "name": "stdout",
     "output_type": "stream",
     "text": [
      "Benchmark Ave Score: 426.9\n",
      "Evolved Ave Score: 475.9\n"
     ]
    }
   ],
   "source": [
    "benchmark_dna = '226226336226226336226226226226226336226226336226226226116116116116116116116116116336336336336336336226226226006006336116556336226226226116116116116116116116116116006006006006006006006006006006006006006006006006006006006006006006006006006006006'\n",
    "\n",
    "test = robot_from_dna(benchmark_dna)\n",
    "\n",
    "test_result = test.simulate(100,200)\n",
    "ga_result = best_robot.simulate(100,200)\n",
    "\n",
    "print('Benchmark Ave Score:',test_result)\n",
    "print('Evolved Ave Score:',ga_result)"
   ]
  },
  {
   "cell_type": "markdown",
   "metadata": {},
   "source": [
    "# Read the last N lines with the robot´s dna of output.txt"
   ]
  },
  {
   "cell_type": "code",
   "execution_count": 9,
   "metadata": {},
   "outputs": [],
   "source": [
    "# Function to read \n",
    "# last N lines of the file  \n",
    "def LastNlines(fname, N): \n",
    "    # opening file using with() method \n",
    "    # so that file get closed \n",
    "    # after completing work \n",
    "    lines = []\n",
    "    with open(fname) as file: \n",
    "          \n",
    "        # loop to read iterate  \n",
    "        # last n lines and print it \n",
    "        for line in (file.readlines() [-N:]): \n",
    "            lines += [line]\n",
    "    return lines \n",
    "\n",
    "\n",
    "# Driver Code:  \n",
    "if __name__ == '__main__': \n",
    "    fname = 'output_3.txt'\n",
    "    N = 2\n",
    "    try: \n",
    "        lines =  LastNlines(fname, N) \n",
    "    except: \n",
    "        print('File not found')\n"
   ]
  },
  {
   "cell_type": "code",
   "execution_count": 79,
   "metadata": {},
   "outputs": [],
   "source": [
    "robot_A = robot_from_dna(lines[0][:-1])\n",
    "robot_B = robot_from_dna(lines[1][:-1])\n",
    "coevolution = Coevolution(robot_A,robot_B)\n",
    "times = []\n",
    "for i in range(1000):\n",
    "    total_scores = []\n",
    "    for j in range(1,1000,50):\n",
    "        scores = coevolution.simulate(1, j)\n",
    "        sum_ = scores[0]+scores[1]\n",
    "        total_scores += [sum_]\n",
    "    times += [list(total_scores).index(max(total_scores))]\n",
    "\n"
   ]
  },
  {
   "cell_type": "code",
   "execution_count": 80,
   "metadata": {},
   "outputs": [],
   "source": [
    "import collections\n",
    "counter=collections.Counter(times)"
   ]
  },
  {
   "cell_type": "code",
   "execution_count": 81,
   "metadata": {},
   "outputs": [
    {
     "data": {
      "text/plain": [
       "Counter({8: 54,\n",
       "         10: 56,\n",
       "         1: 67,\n",
       "         7: 55,\n",
       "         6: 61,\n",
       "         12: 52,\n",
       "         9: 39,\n",
       "         14: 46,\n",
       "         19: 44,\n",
       "         5: 92,\n",
       "         4: 72,\n",
       "         18: 46,\n",
       "         15: 28,\n",
       "         13: 45,\n",
       "         16: 29,\n",
       "         3: 72,\n",
       "         17: 35,\n",
       "         2: 58,\n",
       "         11: 49})"
      ]
     },
     "execution_count": 81,
     "metadata": {},
     "output_type": "execute_result"
    }
   ],
   "source": [
    "counter"
   ]
  },
  {
   "cell_type": "code",
   "execution_count": 72,
   "metadata": {},
   "outputs": [
    {
     "name": "stdout",
     "output_type": "stream",
     "text": [
      "1\n",
      "51\n",
      "101\n",
      "151\n",
      "201\n",
      "251\n",
      "301\n",
      "351\n",
      "401\n",
      "451\n",
      "501\n",
      "551\n",
      "601\n",
      "651\n",
      "701\n",
      "751\n",
      "801\n",
      "851\n",
      "901\n",
      "951\n"
     ]
    }
   ],
   "source": [
    "for j in range(1,1000,50):\n",
    "    print(j)"
   ]
  },
  {
   "cell_type": "code",
   "execution_count": null,
   "metadata": {},
   "outputs": [],
   "source": []
  }
 ],
 "metadata": {
  "kernelspec": {
   "display_name": "Python 3",
   "language": "python",
   "name": "python3"
  },
  "language_info": {
   "codemirror_mode": {
    "name": "ipython",
    "version": 3
   },
   "file_extension": ".py",
   "mimetype": "text/x-python",
   "name": "python",
   "nbconvert_exporter": "python",
   "pygments_lexer": "ipython3",
   "version": "3.7.4"
  }
 },
 "nbformat": 4,
 "nbformat_minor": 2
}
